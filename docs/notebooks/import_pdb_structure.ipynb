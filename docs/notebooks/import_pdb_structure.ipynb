{
 "cells": [
  {
   "cell_type": "markdown",
   "metadata": {},
   "source": [
    "# Import PDB structure to `DirectCoordinateProjector`"
   ]
  },
  {
   "cell_type": "code",
   "execution_count": null,
   "metadata": {},
   "outputs": [],
   "source": [
    "import numpy as np\n",
    "import matplotlib.pyplot as plt\n",
    "import tme\n",
    "\n",
    "from mosaics.reference_template.projector import DirectCoordinateProjector\n",
    "from mosaics.reference_template.projector import FourierSliceProjector\n",
    "from mosaics.filters.exposure_filter import apply_cumulative_exposure_filter\n",
    "\n",
    "np.set_printoptions(precision=3)"
   ]
  },
  {
   "cell_type": "markdown",
   "metadata": {},
   "source": [
    "## Importing a template PDB structure for MOSAICS\n",
    "\n",
    "MOSAICS uses the pyTME package ((CITE)) to parse a Protein Data Bank file into a `Structure` object which holds a set of 3-dimensional atomic coordinates, atomic identities, and B-factors for a structure.\n",
    "pyTME also allows manipulation of `Structure` objects, including centering the structure by mass as show below.\n",
    "More advanced use of the `Structure` object is shown later in these examples to generate masked portions of reference templates."
   ]
  },
  {
   "cell_type": "code",
   "execution_count": null,
   "metadata": {},
   "outputs": [],
   "source": [
    "pdb_path = \"/Users/mgiammar/Documents/MOSAICS/docs/_static/1mh1.pdb\"\n",
    "\n",
    "# Load the structure\n",
    "structure = tme.Structure.from_file(pdb_path)\n",
    "display(structure)\n",
    "\n",
    "# Center the structure by mass\n",
    "mass_center = structure.center_of_mass()\n",
    "print(f\"Original mass center:\\n\\t{mass_center}\")\n",
    "\n",
    "structure = structure.rigid_transform(\n",
    "    translation=-mass_center, rotation_matrix=np.eye(3)\n",
    ")\n",
    "\n",
    "mass_center = structure.center_of_mass()\n",
    "print(f\"New mass center:\\n\\t{mass_center}\")"
   ]
  },
  {
   "cell_type": "markdown",
   "metadata": {},
   "source": [
    "## Create a `DirectCoordinateProjector` object\n",
    "\n",
    "Projections of the reference structure for the `DirectCoordinateProjector` class are generated via rotating and projecting the atomic coordinates in real space.\n",
    "To instantiate a `DirectCoordinateProjector`, three sets of information about the reference template are needed:\n",
    "1) The 3D coordinates of each atom,\n",
    "2) The atomic identities of each atom, and\n",
    "3) The temperature factors (B-factors) for each atom.\n",
    "\n",
    "Additional information on the shape of the desired projection and pixel size of the projection are necessary."
   ]
  },
  {
   "cell_type": "code",
   "execution_count": null,
   "metadata": {},
   "outputs": [],
   "source": [
    "pixel_size = 0.5\n",
    "projection_shape=(160, 160)\n",
    "\n",
    "atom_coordinate = structure.atom_coordinate\n",
    "atomic_identities = structure.element_symbol\n",
    "b_factor = structure.temperature_factor\n",
    "\n",
    "# Instantiate the objet to project the structure\n",
    "direct_projector = DirectCoordinateProjector(\n",
    "    pixel_size=pixel_size,\n",
    "    projection_shape=projection_shape,\n",
    "    atomic_coordinates=atom_coordinate,\n",
    "    atomic_identities=atomic_identities,\n",
    "    b_factors=b_factor,\n",
    ")"
   ]
  },
  {
   "cell_type": "markdown",
   "metadata": {},
   "source": [
    "## Plot the direct coordinate projection results\n",
    "\n",
    "The following code generates a real-space projection of the reference structure taking into account the atom identities and b-factors.\n",
    "On the left is the structure if it has been perfectly projected (no \"blurring\" from radiation damage), and on the right is the expected projection with an exposure filter applied to model the decay of spatial frequencies."
   ]
  },
  {
   "cell_type": "code",
   "execution_count": null,
   "metadata": {},
   "outputs": [],
   "source": [
    "phi = np.deg2rad(10)\n",
    "theta = np.deg2rad(55)\n",
    "psi = np.deg2rad(15)\n",
    "\n",
    "dc_projection = direct_projector.get_real_space_projection(phi, theta, psi)\n",
    "dc_projection_filtered = apply_cumulative_exposure_filter(\n",
    "    dc_projection, pixel_size, exposure_start=0.0, exposure_end=35.0\n",
    ")"
   ]
  },
  {
   "cell_type": "code",
   "execution_count": null,
   "metadata": {},
   "outputs": [],
   "source": [
    "fix, ax = plt.subplots(1, 2, figsize=(10, 5), sharex=True, sharey=True)\n",
    "\n",
    "ax[0].imshow(dc_projection, cmap=\"viridis\")\n",
    "ax[0].set_title(\"Direct projection\")\n",
    "\n",
    "ax[1].imshow(dc_projection_filtered, cmap=\"viridis\")\n",
    "ax[1].set_title(\"Direct projection with exposure filter\")\n",
    "\n",
    "ax[0].set_ylabel(\"y / Angstrom\")\n",
    "ax[0].set_xlabel(\"x / Angstrom\")\n",
    "ax[1].set_xlabel(\"x / Angstrom\")\n",
    "\n",
    "plt.tight_layout()\n",
    "plt.show()"
   ]
  }
 ],
 "metadata": {
  "kernelspec": {
   "display_name": "mosaics-dev",
   "language": "python",
   "name": "python3"
  },
  "language_info": {
   "codemirror_mode": {
    "name": "ipython",
    "version": 3
   },
   "file_extension": ".py",
   "mimetype": "text/x-python",
   "name": "python",
   "nbconvert_exporter": "python",
   "pygments_lexer": "ipython3",
   "version": "3.11.10"
  }
 },
 "nbformat": 4,
 "nbformat_minor": 2
}
