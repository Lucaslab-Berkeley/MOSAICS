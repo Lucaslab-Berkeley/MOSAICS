{
 "cells": [
  {
   "cell_type": "markdown",
   "metadata": {},
   "source": [
    "# Projections of 3D atom coordinates with B-factor\n",
    "\n",
    "This notebook example goes through how the \"blurring\" of atomic coordinates are described by B-factors and how B-factors are incorporated into projection calculations"
   ]
  },
  {
   "cell_type": "code",
   "execution_count": 12,
   "metadata": {},
   "outputs": [],
   "source": [
    "import numpy as np\n",
    "from scipy.stats import norm\n",
    "from scipy.spatial.transform import Rotation\n",
    "import matplotlib.pyplot as plt\n",
    "\n",
    "from mosaics.utils import histogram_2d_linear_interpolation\n",
    "from mosaics.utils import histogram_2d_gaussian_interpolation"
   ]
  },
  {
   "cell_type": "markdown",
   "metadata": {},
   "source": [
    "## Modeling uncertainty in position\n",
    "\n",
    "Thermal fluctuations and sample motion during imaging introduce uncertainty into the positions of atom nuclei effectively blurring the resulting image of a structure.\n",
    "This blurring is frequently modeled by representing atom nuclei -- the scattering centers of the electron beam -- an isotropic Gaussian parameterized by the atom's B-factor.\n",
    "Implementing this blurring computationally can be accomplished by convolving a perfectly resolved point with a Gaussian with variable width.\n",
    "\n",
    "In 1-dimension, this B-factor blurring qualitatively looks like,"
   ]
  },
  {
   "cell_type": "code",
   "execution_count": null,
   "metadata": {},
   "outputs": [],
   "source": [
    "# Create a 1D array with a single spike at the center\n",
    "x = np.linspace(-10, 10, num=256)\n",
    "y = np.zeros(256)\n",
    "y[128] = 1\n",
    "\n",
    "# Convolve the spike with a Gaussian\n",
    "gauss_1 = norm.pdf(x, loc=0, scale=0.5)\n",
    "gauss_2 = norm.pdf(x, loc=0, scale=2)\n",
    "\n",
    "y1 = np.convolve(y, gauss_1, mode=\"same\")\n",
    "y2 = np.convolve(y, gauss_2, mode=\"same\")\n",
    "\n",
    "\n",
    "plt.plot(x, y, label=\"Perfectly resolved\")\n",
    "plt.plot(x, y1, label=\"Low B-factor\")\n",
    "plt.plot(x, y2, label=\"High B-factor\")\n",
    "plt.xlabel(\"Position / Angstrom\")\n",
    "plt.ylabel(\"Scattering Potential / Volts\")\n",
    "plt.legend()\n",
    "plt.show()"
   ]
  },
  {
   "cell_type": "markdown",
   "metadata": {},
   "source": [
    "## Calculating projections of 3D atomic coordinates\n",
    "\n",
    "High-resolution two-dimensional template matching requires projections of a 3D reference template be generated at different orientations.\n",
    "Projections can be calculated using the [Fourier-slice Theorem](https://en.wikipedia.org/wiki/Projection-slice_theorem), or they can be constructed via a rotation and projection matrix operating on a set of 3D coordinates.\n",
    "\n",
    "Let $X\\in\\mathbb{R}^{3\\times n}$ be the matrix representing the atomic positions in some template structure.\n",
    "These coordinates can be rotated by multiplication with rotation matrix, $R\\in\\text{SO}(3)$, yielding a set of coordinates $X' = RX$ at a new orientation; rotations in MOSAICS are parameterized by the Euler angles $(\\phi, \\theta, \\psi)$ in the ZYZ convention.\n",
    "Projecting the rotated set of 3D coordinates onto the XY plane is accomplished by multiplying by the orthogonal projection matrix $P_{xy} = \\begin{bmatrix} 1 & 0 & 0 \\\\ 0 & 1 & 0 \\\\ 0 & 0 & 0 \\end{bmatrix}$ to obtain a set of 2D coordinates, $h = P_{xy}X'$\n",
    "\n",
    "All these rotation and projection operations can be chained together computationally with an illustrative example on the protein 1MH1.\n"
   ]
  },
  {
   "cell_type": "code",
   "execution_count": null,
   "metadata": {},
   "outputs": [],
   "source": [
    "# Load in 3D atomic coordinates from pre-processed numpy file\n",
    "coords = np.load(\n",
    "    \"/Users/mgiammar/Documents/MOSAICS/data/parsed_1mh1.npy\"\n",
    ")  # TODO: Move this to a remote location\n",
    "print(coords.shape, coords.dtype)\n",
    "coords -= np.mean(coords, axis=0)\n",
    "\n",
    "R = Rotation.from_euler(\"ZYZ\", [0, 15, 42], degrees=True)\n",
    "P = np.array([[1, 0, 0], [0, 1, 0], [0, 0, 0]])\n",
    "\n",
    "# Rotate and project the coordinates\n",
    "coords_rot = R.apply(coords)\n",
    "coords_proj = np.dot(coords_rot, P.T)\n",
    "coords_proj = coords_proj[:, :2]\n",
    "\n",
    "# Plot the projected coordinates\n",
    "plt.figure(figsize=(6, 6))\n",
    "plt.scatter(coords_proj[:, 0], coords_proj[:, 1], s=8, alpha=0.5)\n",
    "plt.xlabel(\"X / Angstrom\")\n",
    "plt.ylabel(\"Y / Angstrom\")\n",
    "plt.show()"
   ]
  },
  {
   "cell_type": "markdown",
   "metadata": {},
   "source": [
    "## Converting continuous coordinates to density on a rasterized grid\n",
    "\n",
    "Since cross-correlation operates on images and no continuous sets of points, there needs to be a method to convert the continuous atom positions into an image defined on a 2D grid.\n",
    "One option is to find the nearest pixel to a projected point and add the point's value to that pixel (nearest interpolation), but this lacks the fidelity necessary to accurately model small positional changes and the continuous nature of the reference structure.\n",
    "\n",
    "Another option is to use linear interpolation where the density of a single is distributed to the 4 nearest pixels proportional to the distance to that pixel.\n",
    "The example below shows the difference between nearest and linear interpolation using the projected 2D atomic coordinates."
   ]
  },
  {
   "cell_type": "code",
   "execution_count": null,
   "metadata": {},
   "outputs": [],
   "source": [
    "# Creating grid of 2D position coordinates for histogram calculations\n",
    "x = np.linspace(-32, 32, num=96)\n",
    "y = np.linspace(-32, 32, num=96)\n",
    "extent = (x[0], x[-1], y[0], y[-1])\n",
    "\n",
    "# Calculate the two different projections\n",
    "proj_direct, _, _ = np.histogram2d(coords_proj[:, 0], coords_proj[:, 1], bins=[x, y])\n",
    "proj_linterp = histogram_2d_linear_interpolation(coords_proj[:, 0], coords_proj[:, 1], bins=[x, y])\n",
    "\n",
    "# Plot the two projections side by side\n",
    "fig, ax = plt.subplots(1, 2, figsize=(9, 4))\n",
    "\n",
    "ax[0].imshow(proj_direct.T, cmap=\"viridis\", extent=extent, origin=\"lower\")\n",
    "ax[0].set_title(\"Nearest Interpolation\")\n",
    "ax[0].set_xlabel(\"X / Angstrom\")\n",
    "ax[0].set_ylabel(\"Y / Angstrom\")\n",
    "\n",
    "ax[1].imshow(proj_linterp.T, cmap=\"viridis\", extent=extent, origin=\"lower\")\n",
    "ax[1].set_title(\"Linear Interpolation\")\n",
    "ax[1].set_xlabel(\"X / Angstrom\")\n",
    "ax[1].set_ylabel(\"Y / Angstrom\")\n",
    "\n",
    "plt.tight_layout()\n",
    "plt.show()"
   ]
  },
  {
   "cell_type": "markdown",
   "metadata": {},
   "source": [
    "## Modeling atom B-factor using a Gaussian Kernel\n",
    "\n",
    "Both nearest and linear interpolation effectively represent points with perfectly known positions; accurate projections of a reference structure require the modeling of positional uncertainties.\n",
    "Using the isotropic B-factor per atom, we can construct a Gaussian kernel with width parameter $\\sigma^2$ based on the B-factor.\n",
    "Manipulation of the B-factor definition yields an expression for $\\sigma^2$,\n",
    "$$\n",
    "B = 8\\pi^2 \\langle u^2 \\rangle \\implies \\sigma^2 = \\langle u^2 \\rangle = \\frac{B}{8\\pi^2},\n",
    "$$\n",
    "since the displacement vector, $u$, follows a Gaussian distribution.\n",
    "\n",
    "MOSAICS includes a utility function ``histogram_2d_gaussian_interpolation`` under the ``mosaics.utils`` submodule for creating a 2D histogram (image) using Gaussian interpolation.\n",
    "The example below shows the difference between the structure projected with linear interpolation and with Gaussian interpolation.\n",
    "\n",
    "*Note:* MOSAICS only models isotropic B-factors which have constant variance under rotation.\n",
    "Anisotropic uncertainties require additional calculations to rotate the covariance matrix along with the 3D coordinates.\n",
    "\n",
    "*TODO:* Include utility function for converting from a set of isotropic atom B-factors (plus other parameters which contribute to uncertainty) and creates an array of variances.\n"
   ]
  },
  {
   "cell_type": "code",
   "execution_count": null,
   "metadata": {},
   "outputs": [],
   "source": [
    "# Load in the pre-processed atomic B-factors\n",
    "bfactors = np.load(\n",
    "    \"/Users/mgiammar/Documents/MOSAICS/data/parsed_1mh1_bfactors.npy\"\n",
    ")  # TODO: Move this to a remote location\n",
    "variances = bfactors / (8 * np.pi**2)\n",
    "print(bfactors.shape, bfactors.dtype)\n",
    "\n",
    "# Creating grid of 2D position coordinates for histogram calculations\n",
    "x = np.linspace(-32, 32, num=96)\n",
    "y = np.linspace(-32, 32, num=96)\n",
    "extent = (x[0], x[-1], y[0], y[-1])\n",
    "\n",
    "# Calculate the two different projections\n",
    "proj_linterp = histogram_2d_linear_interpolation(\n",
    "    coords_proj[:, 0], coords_proj[:, 1], bins=[x, y]\n",
    ")\n",
    "proj_ginterp = histogram_2d_gaussian_interpolation(\n",
    "    coords_proj[:, 0], coords_proj[:, 1], sigma=np.sqrt(variances), bins=[x, y]\n",
    ")\n",
    "\n",
    "# Plot the two projections side by side\n",
    "fig, ax = plt.subplots(1, 2, figsize=(9, 4))\n",
    "\n",
    "ax[0].imshow(proj_linterp.T, cmap=\"viridis\", extent=extent, origin=\"lower\")\n",
    "ax[0].set_title(\"Linear Interpolation\")\n",
    "ax[0].set_xlabel(\"X / Angstrom\")\n",
    "ax[0].set_ylabel(\"Y / Angstrom\")\n",
    "\n",
    "ax[1].imshow(proj_ginterp.T, cmap=\"viridis\", extent=extent, origin=\"lower\")\n",
    "ax[1].set_title(\"Gaussian Interpolation\")\n",
    "ax[1].set_xlabel(\"X / Angstrom\")\n",
    "ax[1].set_ylabel(\"Y / Angstrom\")\n",
    "\n",
    "plt.tight_layout()\n",
    "plt.show()"
   ]
  },
  {
   "cell_type": "markdown",
   "metadata": {},
   "source": [
    "## How B-factor fits into map resolution\n",
    "\n",
    "*Clean up derivations. Size of b-factor relates to local map resolution but need to tie into FSC*"
   ]
  },
  {
   "cell_type": "markdown",
   "metadata": {},
   "source": [
    "## Interactive projections\n",
    "\n",
    "Try the interactive sliders below to test how scaling the B-factors and changing the orientation affects the projection.\n",
    "\n",
    "**Currently buggy when built into a static HTML page**"
   ]
  },
  {
   "cell_type": "code",
   "execution_count": null,
   "metadata": {},
   "outputs": [],
   "source": [
    "import ipywidgets as widgets\n",
    "from ipywidgets import interact\n",
    "\n",
    "\n",
    "# Reload the processed data\n",
    "coords = np.load(\"/Users/mgiammar/Documents/MOSAICS/data/parsed_1mh1.npy\")\n",
    "coords -= np.mean(coords, axis=0)\n",
    "bfactors = np.load(\"/Users/mgiammar/Documents/MOSAICS/data/parsed_1mh1_bfactors.npy\")\n",
    "\n",
    "\n",
    "# Interactive function\n",
    "def update_plot(phi, theta, psi, bf_scale, bf_add):\n",
    "    bf_transform = bfactors * bf_scale + bf_add\n",
    "    variances = bf_transform / (8 * np.pi**2)\n",
    "\n",
    "    r = Rotation.from_euler(\"ZYZ\", [phi, theta, psi], degrees=True)\n",
    "    coords_rot = r.apply(coords)\n",
    "\n",
    "    proj_ginterp = histogram_2d_gaussian_interpolation(\n",
    "        coords_rot[:, 0], coords_rot[:, 1], sigma=np.sqrt(variances), bins=[x, y]\n",
    "    )\n",
    "\n",
    "    plt.imshow(\n",
    "        proj_ginterp,\n",
    "        extent=extent,\n",
    "        origin=\"lower\",\n",
    "        cmap=\"viridis\",\n",
    "    )\n",
    "    plt.colorbar(label=\"Density\")\n",
    "    plt.xlabel(\"X / Angstrom\")\n",
    "    plt.ylabel(\"Y / Angstrom\")\n",
    "    plt.show()\n",
    "\n",
    "\n",
    "# Create sliders\n",
    "phi_slider = widgets.FloatSlider(min=0, max=360, step=0.1, value=0, description=\"Phi\")\n",
    "theta_slider = widgets.FloatSlider(min=0, max=180, step=0.1, value=0, description=\"Theta\")\n",
    "psi_slider = widgets.FloatSlider(min=0, max=360, step=0.1, value=0, description=\"Psi\")\n",
    "b_factor_scale_slider = widgets.FloatSlider(\n",
    "    min=0.1, max=4, step=0.1, value=1, description=\"B scale\"\n",
    ")\n",
    "b_factor_additive_slider = widgets.FloatSlider(\n",
    "    min=0, max=10, step=1, value=0, description=\"B add\"\n",
    ")\n",
    "\n",
    "# Display interactive plot\n",
    "interact(\n",
    "    update_plot,\n",
    "    phi=phi_slider,\n",
    "    theta=theta_slider,\n",
    "    psi=psi_slider,\n",
    "    bf_scale=b_factor_scale_slider,\n",
    "    bf_add=b_factor_additive_slider,\n",
    ")"
   ]
  },
  {
   "cell_type": "code",
   "execution_count": null,
   "metadata": {},
   "outputs": [],
   "source": []
  }
 ],
 "metadata": {
  "kernelspec": {
   "display_name": "mosaics-dev",
   "language": "python",
   "name": "python3"
  },
  "language_info": {
   "codemirror_mode": {
    "name": "ipython",
    "version": 3
   },
   "file_extension": ".py",
   "mimetype": "text/x-python",
   "name": "python",
   "nbconvert_exporter": "python",
   "pygments_lexer": "ipython3",
   "version": "3.10.14"
  }
 },
 "nbformat": 4,
 "nbformat_minor": 2
}
