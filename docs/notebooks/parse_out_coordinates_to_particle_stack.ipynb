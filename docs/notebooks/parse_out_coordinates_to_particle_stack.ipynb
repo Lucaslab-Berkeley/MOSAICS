{
 "cells": [
  {
   "cell_type": "markdown",
   "metadata": {},
   "source": [
    "# Importing template refinement results into a `ParticleStack` object\n",
    "\n",
    "*NOTE: This notebook currently requires files present on the workstation. Need to transfer these to a remote location so any machine can build*"
   ]
  },
  {
   "cell_type": "code",
   "execution_count": null,
   "metadata": {},
   "outputs": [],
   "source": [
    "import os\n",
    "import numpy as np\n",
    "import matplotlib.pyplot as plt\n",
    "from glob import glob\n",
    "\n",
    "from mosaics.data_structures.micrograph import Micrograph\n",
    "from mosaics.data_structures.particle_stack import ParticleStack\n",
    "from mosaics.data_structures.contrast_transfer_function import ContrastTransferFunction\n",
    "from mosaics.filters.whitening_filter import apply_whitening_filter\n"
   ]
  },
  {
   "cell_type": "markdown",
   "metadata": {},
   "source": [
    "## Define the reference files path\n",
    "\n",
    "The variable `images_dir` includes `.mrc` files for the original micrographs which we want to extract, and the `out_coordinates_dir` contains result files from the `refine_template` and `make_template_result` programs from cisTEM.\n",
    "Converting from the relative defocus paramteres, relative to the micrograph, to abosolute defocus parameters per-particle requires the CTF fit estimations; the variable `ctf_fit_path` is a text file defining this information for each of the micrographs."
   ]
  },
  {
   "cell_type": "code",
   "execution_count": null,
   "metadata": {},
   "outputs": [],
   "source": [
    "images_dir = \"/home/shared/lucas_2023_vol1/nrs/lucasb/eLife_submission_April_2022/Images\"\n",
    "ctf_fit_path = \"/home/shared/lucas_2023_vol1/groups/lucasb/HRTM/projects/classification_of_60S/TM_results_20220311/defocus.txt\"\n",
    "out_coordinates_dir = \"/home/shared/lucas_2023_vol1/groups/lucasb/HRTM/projects/classification_of_60S/TM_results_20220311/0\""
   ]
  },
  {
   "cell_type": "markdown",
   "metadata": {},
   "source": [
    "### Parse the CTF fit values\n",
    "\n",
    "Plus other paramteters for the data acquisition are defined below."
   ]
  },
  {
   "cell_type": "code",
   "execution_count": null,
   "metadata": {},
   "outputs": [],
   "source": [
    "# Default other CTF parameters\n",
    "voltage = 300\n",
    "spherical_aberration = 2.7\n",
    "amplitude_contrast_ratio = 0.07\n",
    "B_factor = 60.0\n",
    "pixel_size = 1.06\n",
    "ctf_fits = {}\n",
    "\n",
    "# Pair each of the micrographs with the corresponding CTF fit\n",
    "with open(ctf_fit_path, \"r\") as f:\n",
    "    for line in f:\n",
    "        micrograph_id, defocus_1, defocus_2, defocus_angle = line.split()\n",
    "        defocus_1 = float(defocus_1)\n",
    "        defocus_2 = float(defocus_2)\n",
    "        defocus_angle = float(defocus_angle)\n",
    "        ctf_fits[micrograph_id] = (defocus_1, defocus_2, defocus_angle)\n",
    "\n",
    "print(f\"Loaded {len(ctf_fits)} CTF fits.\")"
   ]
  },
  {
   "cell_type": "markdown",
   "metadata": {},
   "source": [
    "### Instantiate the micrograph objects\n",
    "\n",
    "Each image is loaded into its own `Micrograph` object, and the relavent CTF fit parameters are added to its held `ContrastTransferFunction` object."
   ]
  },
  {
   "cell_type": "code",
   "execution_count": null,
   "metadata": {},
   "outputs": [],
   "source": [
    "micrographs = []\n",
    "\n",
    "for i, micrograph_path in enumerate(sorted(glob(f\"{images_dir}/*.mrc\"))):\n",
    "    # Extract expected micrograph id for indexing the CTF fit dict\n",
    "    micrograph_id = micrograph_path.split(\"/\")[-1]\n",
    "    \n",
    "    # Instantiate the Micrograph object\n",
    "    micrograph = Micrograph.from_mrc(micrograph_path)\n",
    "    micrograph.ctf = ContrastTransferFunction(\n",
    "        voltage=voltage,\n",
    "        spherical_aberration=spherical_aberration,\n",
    "        amplitude_contrast_ratio=amplitude_contrast_ratio,\n",
    "        B_factor=B_factor,\n",
    "        pixel_size=pixel_size,\n",
    "        defocus_1=ctf_fits[micrograph_id][0],\n",
    "        defocus_2=ctf_fits[micrograph_id][1],\n",
    "        astigmatism_azimuth=ctf_fits[micrograph_id][2],\n",
    "    )\n",
    "    \n",
    "    micrographs.append(micrograph)\n",
    "    \n",
    "print(f\"Loaded {len(micrographs)} micrographs.\")"
   ]
  },
  {
   "cell_type": "markdown",
   "metadata": {},
   "source": [
    "### Apply a whitening filter to each of the micrographs\n",
    "\n",
    "The images are whitened using the global power spectal density rather than adjustments in local regions.\n",
    "Prevents certain cell features from overpowering the whitening step."
   ]
  },
  {
   "cell_type": "code",
   "execution_count": null,
   "metadata": {},
   "outputs": [],
   "source": [
    "for micrograph in micrographs:\n",
    "    print(f\"Whitening {micrograph.image_path}\")\n",
    "    micrograph.image_array = apply_whitening_filter(micrograph.image_array, pixel_size=micrograph.pixel_size, is_fourier_space=False) \n"
   ]
  },
  {
   "cell_type": "markdown",
   "metadata": {},
   "source": [
    "## Create `ParticleStack` objects form the out coordinates files"
   ]
  },
  {
   "cell_type": "code",
   "execution_count": null,
   "metadata": {},
   "outputs": [],
   "source": [
    "particle_stacks = []\n",
    "box_size = (384, 384)\n",
    "\n",
    "for i, micrograph in enumerate(micrographs):\n",
    "    # Extract the micrograph id from the out coordinates file path\n",
    "    micrograph_id = micrograph.image_path.split(\"/\")[-1][:-4]\n",
    "    out_coordinates_file = f\"{out_coordinates_dir}/{micrograph_id}_out_coordinates.txt\"\n",
    "    \n",
    "    tmp_particle_stack = ParticleStack.from_out_coordinates_and_micrograph(\n",
    "        out_coordinates_path=out_coordinates_file,\n",
    "        micrograph=micrograph,\n",
    "        box_size=box_size,\n",
    "        positions_reference=\"center\",\n",
    "        handle_bounds=\"fill\",\n",
    "    )\n",
    "    \n",
    "    particle_stacks.append(tmp_particle_stack)\n",
    "    \n",
    "print(f\"Loaded {len(particle_stacks)} particle stacks.\")"
   ]
  },
  {
   "cell_type": "markdown",
   "metadata": {},
   "source": [
    "## Plot views of each of the particles"
   ]
  },
  {
   "cell_type": "code",
   "execution_count": null,
   "metadata": {},
   "outputs": [],
   "source": [
    "particle_stack = particle_stacks[0]\n",
    "\n",
    "# Calculate optimal grid dimensions for a square-like layout\n",
    "num_particles = len(particle_stack.particle_images)\n",
    "nrows = int(np.ceil(np.sqrt(num_particles)))\n",
    "ncols = int(np.ceil(num_particles / nrows))\n",
    "\n",
    "print(f\"Plotting {num_particles} particles in a {nrows} x {ncols} grid.\")\n",
    "\n",
    "fig, axs = plt.subplots(nrows, ncols, figsize=(16, 16))\n",
    "\n",
    "for i, ax in enumerate(axs.flatten()):\n",
    "    ax.imshow(particle_stack.particle_images[i])\n",
    "    # Add text with defocus and orientation\n",
    "    defocus = particle_stack.particle_defocus_parameters[i]\n",
    "    defocus = f\"{defocus[0]:.0f}Å, {defocus[1]:.0f}Å\"\n",
    "    \n",
    "    orientation = particle_stack.particle_orientations[i]\n",
    "    orientation = f\"{orientation[0]:.1f}°, {orientation[1]:.1f}°, {orientation[2]:.1f}°\"\n",
    "    \n",
    "    ax.annotate(fr\"$\\Delta z$: {defocus}\", fontsize=6, xy=(0.05, 0.9), xycoords=\"axes fraction\")\n",
    "    ax.annotate(fr\"$(\\phi, \\theta, \\psi)$: {orientation}\", fontsize=6, xy=(0.05, 0.8), xycoords=\"axes fraction\")\n",
    "    ax.axis(\"off\")\n",
    "    \n",
    "plt.show()"
   ]
  },
  {
   "cell_type": "code",
   "execution_count": null,
   "metadata": {},
   "outputs": [],
   "source": []
  }
 ],
 "metadata": {
  "kernelspec": {
   "display_name": "mosaics-dev",
   "language": "python",
   "name": "python3"
  },
  "language_info": {
   "codemirror_mode": {
    "name": "ipython",
    "version": 3
   },
   "file_extension": ".py",
   "mimetype": "text/x-python",
   "name": "python",
   "nbconvert_exporter": "python",
   "pygments_lexer": "ipython3",
   "version": "3.12.7"
  }
 },
 "nbformat": 4,
 "nbformat_minor": 2
}
