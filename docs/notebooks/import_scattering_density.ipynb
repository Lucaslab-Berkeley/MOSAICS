{
 "cells": [
  {
   "cell_type": "markdown",
   "metadata": {},
   "source": [
    "# Import pre-calculated scattering density to a `FourierSliceProjector`"
   ]
  },
  {
   "cell_type": "code",
   "execution_count": null,
   "metadata": {},
   "outputs": [],
   "source": [
    "import numpy as np\n",
    "import matplotlib.pyplot as plt\n",
    "\n",
    "from mosaics.reference_template.projector import FourierSliceProjector"
   ]
  },
  {
   "cell_type": "markdown",
   "metadata": {},
   "source": [
    "## Pre-calculated 3D scattering potential .mrc file for taking Fourier slices\n",
    "\n",
    "Numerous cryo-EM programs exist for generating 3-dimensional volumes from a reference structure.\n",
    "We include the functionality to generate a projector object from these 3-dimensional volumes which implements the Fourier slice algorithm.\n",
    "The `FourierSliceProjector` object can be instantiated from a pre-existing numpy array, but we also include the functionality to directly parse a `.mrc` file."
   ]
  },
  {
   "cell_type": "code",
   "execution_count": null,
   "metadata": {},
   "outputs": [],
   "source": [
    "mrc_path = \"/Users/mgiammar/Documents/MOSAICS/data/lsu_b_0.5.mrc\"  # TODO: Remote path for large files\n",
    "\n",
    "fs_projector = FourierSliceProjector.from_mrc(mrc_path)"
   ]
  },
  {
   "cell_type": "markdown",
   "metadata": {},
   "source": [
    "## Taking Fourier slices and generating real-space projections\n",
    "\n",
    "The `FourierSliceProjector` object can rapidly generate Fourier slices (and projections) from the reference structure by pre-calculating the FFT of the density array.\n",
    "The two methods, `take_fourier_slice` and `get_real_space_projection` return the Fourier slice and real space projection at a given orientation, respectfully."
   ]
  },
  {
   "cell_type": "code",
   "execution_count": null,
   "metadata": {},
   "outputs": [],
   "source": [
    "phi = np.deg2rad(0)\n",
    "theta = np.deg2rad(0)\n",
    "psi = np.deg2rad(0)\n",
    "\n",
    "fourier_slice = fs_projector.take_fourier_slice(phi, theta, psi)\n",
    "projection = fs_projector.get_real_space_projection(phi, theta, psi)"
   ]
  },
  {
   "cell_type": "code",
   "execution_count": null,
   "metadata": {},
   "outputs": [],
   "source": [
    "fig, ax = plt.subplots(1, 2, figsize=(10, 5))\n",
    "\n",
    "im0 = ax[0].imshow(np.log(np.abs(fourier_slice) + 1), cmap=\"gist_ncar_r\")\n",
    "cbar = fig.colorbar(im0, ax=ax[0], fraction=0.046, pad=0.04)\n",
    "cbar.set_label(\"Log Magnitude\")\n",
    "\n",
    "ax[1].imshow(np.abs(projection), cmap=\"gray\")\n",
    "\n",
    "ax[0].set_title(\"Fourier Slice\")\n",
    "ax[1].set_title(\"Real Space Projection\")\n",
    "\n",
    "ax[1].set_xlabel(\"x / Angstroms\")\n",
    "ax[1].set_ylabel(\"y / Angstroms\")\n",
    "\n",
    "fig.suptitle(\"Projections of Ribosome 60s Subunit\", fontsize=16)\n",
    "plt.tight_layout()\n",
    "plt.show()"
   ]
  }
 ],
 "metadata": {
  "kernelspec": {
   "display_name": "mosaics-dev",
   "language": "python",
   "name": "python3"
  },
  "language_info": {
   "codemirror_mode": {
    "name": "ipython",
    "version": 3
   },
   "file_extension": ".py",
   "mimetype": "text/x-python",
   "name": "python",
   "nbconvert_exporter": "python",
   "pygments_lexer": "ipython3",
   "version": "3.11.10"
  }
 },
 "nbformat": 4,
 "nbformat_minor": 2
}
