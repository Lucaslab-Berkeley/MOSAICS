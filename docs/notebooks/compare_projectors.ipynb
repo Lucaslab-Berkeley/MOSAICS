{
 "cells": [
  {
   "cell_type": "markdown",
   "metadata": {},
   "source": [
    "# Comparing `DirectCoordinateProjector` and `FourierSliceProjector`"
   ]
  },
  {
   "cell_type": "code",
   "execution_count": null,
   "metadata": {},
   "outputs": [],
   "source": [
    "import numpy as np\n",
    "import matplotlib.pyplot as plt\n",
    "import matplotlib.patches as patches\n",
    "\n",
    "from tme import Structure\n",
    "\n",
    "from mosaics.filters.exposure_filter import apply_cumulative_exposure_filter\n",
    "from mosaics.reference_template.projector import DirectCoordinateProjector\n",
    "from mosaics.reference_template.projector import FourierSliceProjector"
   ]
  },
  {
   "cell_type": "code",
   "execution_count": null,
   "metadata": {},
   "outputs": [],
   "source": [
    "pdb_path = \"/Users/mgiammar/Documents/MOSAICS/docs/_static/parsed_6Q8Y.pdb\"  # TODO: Remote or relative\n",
    "mrc_path = \"/Users/mgiammar/Documents/MOSAICS/data/lsu.mrc\"  # TODO: Remote or relative"
   ]
  },
  {
   "cell_type": "code",
   "execution_count": null,
   "metadata": {},
   "outputs": [],
   "source": [
    "# Load the structure\n",
    "structure = Structure.from_file(pdb_path)\n",
    "display(structure)\n",
    "\n",
    "# Center the structure by mass\n",
    "mass_center = structure.center_of_mass()\n",
    "print(f\"Original mass center:\\n\\t{mass_center}\")\n",
    "\n",
    "structure = structure.rigid_transform(\n",
    "    translation=-mass_center, rotation_matrix=np.eye(3)\n",
    ")\n",
    "\n",
    "mass_center = structure.center_of_mass()\n",
    "print(f\"New mass center:\\n\\t{mass_center}\")"
   ]
  },
  {
   "cell_type": "code",
   "execution_count": null,
   "metadata": {},
   "outputs": [],
   "source": [
    "pixel_size = 0.95\n",
    "projection_shape=(512, 512)\n",
    "\n",
    "atom_coordinate = structure.atom_coordinate\n",
    "atomic_identities = structure.element_symbol\n",
    "b_factor = structure.temperature_factor\n",
    "\n",
    "# Instantiate the objet to project the structure\n",
    "direct_projector = DirectCoordinateProjector(\n",
    "    pixel_size=pixel_size,\n",
    "    projection_shape=projection_shape,\n",
    "    atomic_coordinates=atom_coordinate,\n",
    "    atomic_identities=atomic_identities,\n",
    "    b_factors=b_factor,\n",
    ")"
   ]
  },
  {
   "cell_type": "code",
   "execution_count": null,
   "metadata": {},
   "outputs": [],
   "source": [
    "fourier_projector = FourierSliceProjector.from_mrc(mrc_path)"
   ]
  },
  {
   "cell_type": "markdown",
   "metadata": {},
   "source": [
    "## Compare the two projections\n"
   ]
  },
  {
   "cell_type": "code",
   "execution_count": null,
   "metadata": {},
   "outputs": [],
   "source": [
    "phi = np.deg2rad(0)\n",
    "theta = np.deg2rad(0)\n",
    "psi = np.deg2rad(0)\n",
    "\n",
    "# Project the structure\n",
    "fourier_projection_image = fourier_projector.get_real_space_projection(phi, theta, psi)\n",
    "direct_projection_image = direct_projector.get_real_space_projection(phi, theta, psi)\n",
    "direct_projection_image = apply_cumulative_exposure_filter(direct_projection_image, pixel_size, 0.0, 30.0).T\n",
    "\n",
    "# Normalize the images to mean 0 and std 1\n",
    "fourier_projection_image = (fourier_projection_image - fourier_projection_image.mean()) / fourier_projection_image.std()\n",
    "direct_projection_image = (direct_projection_image - direct_projection_image.mean()) / direct_projection_image.std()"
   ]
  },
  {
   "cell_type": "code",
   "execution_count": null,
   "metadata": {},
   "outputs": [],
   "source": [
    "fix, ax = plt.subplots(2, 3, figsize=(15, 10))\n",
    "\n",
    "region_of_interest = [(200, 300), (300, 400)]\n",
    "\n",
    "ax[0, 0].imshow(fourier_projection_image, cmap=\"gray\")\n",
    "ax[0, 0].add_patch(patches.Rectangle(\n",
    "    region_of_interest[0],\n",
    "    region_of_interest[1][0] - region_of_interest[0][0],\n",
    "    region_of_interest[1][1] - region_of_interest[0][1],\n",
    "    edgecolor=\"r\",\n",
    "    facecolor=\"none\")\n",
    ")\n",
    "ax[0, 0].set_title(\"Fourier projection\")\n",
    "\n",
    "ax[0, 1].imshow(direct_projection_image, cmap=\"gray\")\n",
    "ax[0, 1].add_patch(patches.Rectangle(\n",
    "    region_of_interest[0],\n",
    "    region_of_interest[1][0] - region_of_interest[0][0],\n",
    "    region_of_interest[1][1] - region_of_interest[0][1],\n",
    "    edgecolor=\"r\",\n",
    "    facecolor=\"none\")\n",
    ")\n",
    "ax[0, 1].set_title(\"Direct projection\")\n",
    "\n",
    "difference = fourier_projection_image - direct_projection_image\n",
    "max_diff = np.abs(difference).max()\n",
    "ax[0, 2].imshow(difference, cmap=\"bwr\", vmin=-max_diff, vmax=max_diff)\n",
    "ax[0, 2].add_patch(patches.Rectangle(\n",
    "    region_of_interest[0],\n",
    "    region_of_interest[1][0] - region_of_interest[0][0],\n",
    "    region_of_interest[1][1] - region_of_interest[0][1],\n",
    "    edgecolor=\"r\",\n",
    "    facecolor=\"none\")\n",
    ")\n",
    "ax[0, 2].set_title(\"Difference\")\n",
    "\n",
    "\n",
    "ax[1, 0].imshow(\n",
    "    fourier_projection_image[\n",
    "        region_of_interest[0][1]:region_of_interest[1][1],\n",
    "        region_of_interest[0][0]:region_of_interest[1][0],\n",
    "    ],\n",
    "    cmap=\"gray\"\n",
    ")\n",
    "ax[1, 0].set_title(\"Fourier projection (zoom)\")\n",
    "\n",
    "ax[1, 1].imshow(\n",
    "    direct_projection_image[\n",
    "        region_of_interest[0][1]:region_of_interest[1][1],\n",
    "        region_of_interest[0][0]:region_of_interest[1][0],\n",
    "    ],\n",
    "    cmap=\"gray\"\n",
    ")\n",
    "ax[1, 1].set_title(\"Direct projection (zoom)\")\n",
    "\n",
    "im12 = ax[1, 2].imshow(\n",
    "    difference[\n",
    "        region_of_interest[0][1]:region_of_interest[1][1],\n",
    "        region_of_interest[0][0]:region_of_interest[1][0],\n",
    "    ],\n",
    "    cmap=\"bwr\",\n",
    "    vmin=-max_diff,\n",
    "    vmax=max_diff\n",
    ")\n",
    "cb12 = plt.colorbar(im12, ax=ax[1, 2], fraction=0.046, pad=0.04)\n",
    "ax[1, 2].set_title(\"Difference (zoom)\")\n",
    "\n",
    "plt.show()"
   ]
  },
  {
   "cell_type": "code",
   "execution_count": null,
   "metadata": {},
   "outputs": [],
   "source": []
  }
 ],
 "metadata": {
  "kernelspec": {
   "display_name": "mosaics-dev",
   "language": "python",
   "name": "python3"
  },
  "language_info": {
   "codemirror_mode": {
    "name": "ipython",
    "version": 3
   },
   "file_extension": ".py",
   "mimetype": "text/x-python",
   "name": "python",
   "nbconvert_exporter": "python",
   "pygments_lexer": "ipython3",
   "version": "3.11.10"
  }
 },
 "nbformat": 4,
 "nbformat_minor": 2
}
